{
 "cells": [
  {
   "cell_type": "markdown",
   "metadata": {},
   "source": [
    "# Trabalho 1 - SEP\n",
    "## Abaixo segue o diagrama unifilar simplificado do sistema."
   ]
  },
  {
   "attachments": {
    "Diagrama%20simplificado%20SEP.png": {
     "image/png": "[encoded data removed]"
    }
   },
   "cell_type": "markdown",
   "metadata": {},
   "source": [
    "![Diagrama%20simplificado%20SEP.png](attachment:Diagrama%20simplificado%20SEP.png)"
   ]
  },
  {
   "cell_type": "code",
   "execution_count": 513,
   "metadata": {},
   "outputs": [],
   "source": [
    "import cmath\n",
    "import math"
   ]
  },
  {
   "cell_type": "code",
   "execution_count": 514,
   "metadata": {},
   "outputs": [],
   "source": [
    "# Bases\n",
    "\n",
    "Sb = 100*10**6\n",
    "Vbmt = 13800\n",
    "Vbbt1 = 220 # Tensão base do transformador 1\n",
    "Vbbt2 = 380 # Tensão base do transformador 2\n",
    "\n",
    "Ibmt = Sb/(math.sqrt(3)*Vbmt)\n",
    "Ibbt1 = Sb/(math.sqrt(3)*Vbbt1) # Corrente base TF-1\n",
    "Ibbt2 = Sb/(math.sqrt(3)*Vbbt2) # Corrente base TF-2\n",
    "\n",
    "Zbmt = (Vbmt**2)/Sb\n",
    "Zbbt1 = (Vbbt1**2)/Sb\n",
    "Zbbt2 = (Vbbt2**2)/Sb"
   ]
  },
  {
   "cell_type": "code",
   "execution_count": 515,
   "metadata": {},
   "outputs": [],
   "source": [
    "def calcula_impedancia(bitola_mm, d_m):\n",
    "    \n",
    "    impedancias = {\"16\": complex(1.3899, 0.1173)/1000, \"25\": complex(0.8891, 0.1164)/1000, \n",
    "                   \"35\": complex(0.6353, 0.1128)/1000, \"70\": complex(0.3184, 0.1096)/1000, \n",
    "                   \"95\": complex(0.2352, 0.1090)/1000, \"3x70\": complex(0.6353, 0.1128)/(3*1000), \n",
    "                   \"50\": complex(0.4450, 0.1127)/1000, \"2x70\": complex(0.6353, 0.1128)/(2*1000), \n",
    "                   \"4x120\": complex(0.1868, 0.1076)/(4*1000)}\n",
    "    \n",
    "    return impedancias[bitola_mm]*d_m"
   ]
  },
  {
   "cell_type": "code",
   "execution_count": 516,
   "metadata": {},
   "outputs": [],
   "source": [
    "# Impedâncias\n",
    "\n",
    "Z1 = complex(0.3703, 1.3690)\n",
    "\n",
    "Zcmt1 = complex(1.534, 0.177)*11/1000 # Duto conrrugado\n",
    "Zcmt2 = complex(1.534, 0.177)*45/1000 # Duto conrrugado\n",
    "Zcbta = calcula_impedancia(\"25\", 45)\n",
    "Zcbtb = calcula_impedancia(\"35\", 45)\n",
    "Zcbtc = calcula_impedancia(\"70\", 55)\n",
    "Zcbtd = calcula_impedancia(\"95\", 80)\n",
    "Zcbte = calcula_impedancia(\"3x70\", 50)\n",
    "Zcbtf = calcula_impedancia(\"50\", 95)\n",
    "Zcbtqgd1 = calcula_impedancia(\"2x70\", 29)\n",
    "Zcbtqgd2 = calcula_impedancia(\"4x120\", 14)\n",
    "\n",
    "# Impedâncias PU\n",
    "\n",
    "Zcmt1pu = Zcmt1/Zbmt\n",
    "Zcmt2pu = Zcmt2/Zbmt\n",
    "Zcbtapu = Zcbta/Zbbt1\n",
    "Zcbtbpu = Zcbtb/Zbbt1\n",
    "Zcbtcpu = Zcbtc/Zbbt1\n",
    "Zcbtdpu = Zcbtd/Zbbt2\n",
    "Zcbtepu = Zcbte/Zbbt2 \n",
    "Zcbtfpu = Zcbtf/Zbbt2\n",
    "Zcbtqgd1pu = Zcbtqgd1/Zbbt1 \n",
    "Zcbtqgd2pu = Zcbtqgd2/Zbbt2 \n"
   ]
  },
  {
   "cell_type": "code",
   "execution_count": 517,
   "metadata": {},
   "outputs": [],
   "source": [
    "def calcula_impedancia_transformador(Sn, Z, Pcobre, Sb = 100*10**6):\n",
    "    # Retorna a impedância do tranformador, já na base desejada\n",
    "    R = Pcobre/Sn\n",
    "    Xl = math.sqrt(((Z/100)**2) - (R**2))\n",
    "    \n",
    "    return complex(R,Xl)*Sb/Sn"
   ]
  },
  {
   "cell_type": "code",
   "execution_count": 518,
   "metadata": {},
   "outputs": [],
   "source": [
    "# Impedância dos transformadores\n",
    "\n",
    "Ztr1pu = calcula_impedancia_transformador(150*10**3, 3.5, 545)\n",
    "Ztr2pu = calcula_impedancia_transformador(750*10**3, 6, 9500)"
   ]
  },
  {
   "cell_type": "code",
   "execution_count": 519,
   "metadata": {},
   "outputs": [],
   "source": [
    "def calcula_s(pot, fp = 0, ativa = True):\n",
    "    if ativa:\n",
    "        S = pot/fp\n",
    "        phi = math.acos(fp)\n",
    "        return cmath.rect(S, phi)\n",
    "    \n",
    "    else:\n",
    "        phi = math.acos(fp)\n",
    "        return cmath.rect(pot, phi)"
   ]
  },
  {
   "cell_type": "code",
   "execution_count": 520,
   "metadata": {},
   "outputs": [],
   "source": [
    "# Cargas\n",
    "Sqda = calcula_s(33*10**3, 0.87)\n",
    "Sqdb = calcula_s(46*10**3, 0.89, False)\n",
    "Sqdc = calcula_s(71*10**3, 0.82, False)\n",
    "Sqdd = calcula_s(173*10**3, 0.85, False)\n",
    "Sqde = calcula_s(425*10**3, 0.87, False)\n",
    "Sqdf = 0#calcula_s(-120*10**3, -1)\n",
    "\n",
    "# Passando para PU\n",
    "Sqdapu = Sqda/Sb \n",
    "Sqdbpu = Sqdb/Sb \n",
    "Sqdcpu = Sqdc/Sb \n",
    "Sqddpu = Sqdd/Sb \n",
    "Sqdepu = Sqde/Sb \n",
    "Sqdfpu = Sqdf/Sb \n",
    "\n",
    "# Bancos de Capacitores\n",
    "Qqda = complex(0, 3*10**3)\n",
    "Qqdb = complex(0, 2*10**3)\n",
    "Qqdc = complex(0, 12.5*10**3)\n",
    "Qqdd = complex(0, 20*10**3)\n",
    "Qqde = complex(0, 40*10**3)\n",
    "Qqdf = complex(0, 0)\n",
    "Qqdg1 = complex(0, 20*10**3)\n",
    "Qqdg2 = complex(0, 60*10**3)\n",
    "\n",
    "# Passando para PU\n",
    "Qqdapu = Qqda/Sb \n",
    "Qqdbpu = Qqdb/Sb \n",
    "Qqdcpu = Qqdc/Sb  \n",
    "Qqddpu = Qqdd/Sb  \n",
    "Qqdepu = Qqde/Sb  \n",
    "Qqdfpu = Qqdf/Sb \n",
    "Qqdg1pu = Qqdg1/Sb \n",
    "Qqdg2pu = Qqdg2/Sb"
   ]
  },
  {
   "cell_type": "code",
   "execution_count": 521,
   "metadata": {},
   "outputs": [],
   "source": [
    "# Controle de Bancos de capacitores\n",
    "bancos = {\"Qqda\": False,\n",
    "          \"Qqdb\": False,\n",
    "          \"Qqdc\": False,\n",
    "          \"Qqdd\": False,\n",
    "          \"Qqde\": False,\n",
    "          \"Qqdf\": False,\n",
    "          \"Qqdg1\": False,\n",
    "          \"Qqdg2\": False}\n",
    "\n",
    "potencias = dict()\n",
    "\n",
    "if bancos[\"Qqda\"]: \n",
    "    potencias[\"Sqdapu\"] = Sqdapu + Qqdapu \n",
    "else:\n",
    "    potencias[\"Sqdapu\"] = Sqdapu\n",
    "if bancos[\"Qqdb\"]: \n",
    "    potencias[\"Sqdbpu\"] = Sqdbpu + Qqdbpu \n",
    "else:\n",
    "    potencias[\"Sqdbpu\"] = Sqdbpu\n",
    "if bancos[\"Qqdc\"]: \n",
    "    potencias[\"Sqdcpu\"] = Sqdcpu + Qqdcpu \n",
    "else:\n",
    "    potencias[\"Sqdcpu\"] = Sqdcpu\n",
    "if bancos[\"Qqdd\"]: \n",
    "    potencias[\"Sqddpu\"] = Sqddpu + Qqddpu \n",
    "else:\n",
    "    potencias[\"Sqddpu\"] = Sqddpu\n",
    "if bancos[\"Qqde\"]: \n",
    "    potencias[\"Sqdepu\"] = Sqdepu + Qqdepu \n",
    "else:\n",
    "    potencias[\"Sqdepu\"] = Sqdepu\n",
    "if bancos[\"Qqdf\"]: \n",
    "    potencias[\"Sqdfpu\"] = Sqdfpu + Qqdfpu \n",
    "else:\n",
    "    potencias[\"Sqdfpu\"] = Sqdfpu\n",
    "    \n",
    "if bancos[\"Qqdg1\"]: \n",
    "    potencias[\"Sqdg1\"] = Qqdg1pu \n",
    "else:\n",
    "    potencias[\"Sqdg1\"] = 0 + 0j\n",
    "if bancos[\"Qqdg2\"]: \n",
    "    potencias[\"Sqdg2\"] = Qqdg2pu \n",
    "else:\n",
    "    potencias[\"Sqdg2\"] = 0 + 0j\n",
    "    \n",
    "# Ponto de entrada\n",
    "# Valor inicial que deve ser desconsiderado\n",
    "potencias[\"Spepu\"] = 0 + 0j\n"
   ]
  },
  {
   "cell_type": "code",
   "execution_count": 522,
   "metadata": {},
   "outputs": [],
   "source": [
    "# Definindo as tensões iniciais\n",
    "tensoes = { \"Vqdapu\": complex(1,0),\n",
    "            \"Vqdbpu\": complex(1,0),\n",
    "            \"Vqdcpu\": complex(1,0),\n",
    "            \"Vqddpu\": complex(1,0),\n",
    "            \"Vqdepu\": complex(1,0),\n",
    "            \"Vqdfpu\": complex(1,0),\n",
    "            \"Vbtt1pu\": complex(1,0),\n",
    "            \"Vbtt2pu\": complex(1,0), \n",
    "            \"Vpepu\": complex(1,0)}\n",
    "\n",
    "# Estamos criando um dicionário para as correntes, mas esses valores não são representativos\n",
    "correntes = { \"Iqdapu\": complex(1,0),\n",
    "              \"Iqdbpu\": complex(1,0),\n",
    "              \"Iqdcpu\": complex(1,0),\n",
    "              \"Iqddpu\": complex(1,0),\n",
    "              \"Iqdepu\": complex(1,0),\n",
    "              \"Iqdfpu\": complex(1,0),\n",
    "              \"Ibtt1pu\": complex(1,0),\n",
    "              \"Ibtt2pu\": complex(1,0), \n",
    "              \"Ipepu\": complex(1,0)}"
   ]
  },
  {
   "cell_type": "code",
   "execution_count": 523,
   "metadata": {},
   "outputs": [],
   "source": [
    "# Perguntar pq o professor não dividiu por 3 no código exemplo\n",
    "def calcula_corrente(V, S):\n",
    "    return S.conjugate()/V\n",
    "\n",
    "def calcula_correntes():\n",
    "    for i in zip(correntes, tensoes, potencias):\n",
    "        correntes[i[0]] = calcula_corrente(tensoes[i[1]], potencias[i[2]])\n",
    "    \n",
    "    correntes[\"Ibtt1pu\"] = correntes[\"Iqdapu\"] + correntes[\"Iqdbpu\"] + correntes[\"Iqdcpu\"]\n",
    "    correntes[\"Ibtt2pu\"] = correntes[\"Iqddpu\"] + correntes[\"Iqdepu\"] + correntes[\"Iqdfpu\"]\n",
    "    correntes[\"Ipepu\"] = correntes[\"Ibtt1pu\"] + correntes[\"Ibtt2pu\"]\n",
    "    \n",
    "calcula_correntes()\n"
   ]
  },
  {
   "cell_type": "code",
   "execution_count": 524,
   "metadata": {},
   "outputs": [],
   "source": [
    "# Calcula as quedas de tensão\n",
    "quedas_tensao = dict()\n",
    "def calcula_quedas_tensao():\n",
    "    quedas_tensao[\"Dzcbta\"] = Zcbtapu*correntes[\"Iqdapu\"]\n",
    "    quedas_tensao[\"Dzcbtb\"] = Zcbtbpu*correntes[\"Iqdbpu\"]\n",
    "    quedas_tensao[\"Dzcbtc\"] = Zcbtcpu*correntes[\"Iqdcpu\"]\n",
    "    quedas_tensao[\"Dzcbtd\"] = Zcbtdpu*correntes[\"Iqddpu\"]\n",
    "    quedas_tensao[\"Dzcbte\"] = Zcbtepu*correntes[\"Iqdepu\"]\n",
    "    quedas_tensao[\"Dzcbtf\"] = Zcbtfpu*correntes[\"Iqdfpu\"]\n",
    "    quedas_tensao[\"Dzcbtqgd1\"] = Zcbtqgd1pu*correntes[\"Ibtt1pu\"]\n",
    "    quedas_tensao[\"Dzcbtqgd2\"] = Zcbtqgd2pu*correntes[\"Ibtt2pu\"]\n",
    "    quedas_tensao[\"Dzt1\"] = Ztr1pu*correntes[\"Ibtt1pu\"]\n",
    "    quedas_tensao[\"Dzt2\"] = Ztr2pu*correntes[\"Ibtt2pu\"]\n",
    "    quedas_tensao[\"Dzcmt1\"] = Zcmt1pu*correntes[\"Ibtt1pu\"]\n",
    "    quedas_tensao[\"Dzcmt2\"] = Zcmt2pu*correntes[\"Ibtt2pu\"]\n",
    "    quedas_tensao[\"Dzpe\"] = Z1*correntes[\"Ipepu\"]\n",
    "    \n",
    "calcula_quedas_tensao()\n",
    "    "
   ]
  },
  {
   "cell_type": "code",
   "execution_count": 525,
   "metadata": {},
   "outputs": [
    {
     "data": {
      "text/plain": [
       "(363.9523038237688, -0.04460438277145427)"
      ]
     },
     "execution_count": 525,
     "metadata": {},
     "output_type": "execute_result"
    }
   ],
   "source": [
    "# Calcula tensões\n",
    "def calcula_tensoes():\n",
    "    tensoes[\"Vpepu\"] = 1 - quedas_tensao[\"Dzpe\"]\n",
    "    tensoes[\"Vbtt1pu\"] = tensoes[\"Vpepu\"] - quedas_tensao[\"Dzcmt1\"] - quedas_tensao[\"Dzt1\"]\n",
    "    tensoes[\"Vbtt2pu\"] = tensoes[\"Vpepu\"] - quedas_tensao[\"Dzcmt2\"] - quedas_tensao[\"Dzt2\"]\n",
    "    tensoes[\"Vqdapu\"] = tensoes[\"Vbtt1pu\"] - quedas_tensao[\"Dzcbtqgd1\"] - quedas_tensao[\"Dzcbta\"]\n",
    "    tensoes[\"Vqdbpu\"] = tensoes[\"Vbtt1pu\"] - quedas_tensao[\"Dzcbtqgd1\"] - quedas_tensao[\"Dzcbtb\"]\n",
    "    tensoes[\"Vqdcpu\"] = tensoes[\"Vbtt1pu\"] - quedas_tensao[\"Dzcbtqgd1\"] - quedas_tensao[\"Dzcbtc\"]\n",
    "    tensoes[\"Vqddpu\"] = tensoes[\"Vbtt2pu\"] - quedas_tensao[\"Dzcbtqgd2\"] - quedas_tensao[\"Dzcbtd\"]\n",
    "    tensoes[\"Vqdepu\"] = tensoes[\"Vbtt2pu\"] - quedas_tensao[\"Dzcbtqgd2\"] - quedas_tensao[\"Dzcbte\"]\n",
    "    tensoes[\"Vqdfpu\"] = tensoes[\"Vbtt2pu\"] - quedas_tensao[\"Dzcbtqgd2\"] - quedas_tensao[\"Dzcbtf\"]\n",
    "\n",
    "calcula_tensoes()\n",
    "\n",
    "cmath.polar(tensoes[\"Vqdfpu\"]*Vbbt2)"
   ]
  },
  {
   "cell_type": "code",
   "execution_count": 526,
   "metadata": {},
   "outputs": [
    {
     "data": {
      "text/plain": [
       "(363.4255322101514, -0.049842026622261504)"
      ]
     },
     "execution_count": 526,
     "metadata": {},
     "output_type": "execute_result"
    }
   ],
   "source": [
    "calcula_correntes()\n",
    "calcula_quedas_tensao()\n",
    "calcula_tensoes()\n",
    "\n",
    "cmath.polar(tensoes[\"Vqdfpu\"]*Vbbt2)"
   ]
  }
 ],
 "metadata": {
  "kernelspec": {
   "display_name": "Python 3",
   "language": "python",
   "name": "python3"
  },
  "language_info": {
   "codemirror_mode": {
    "name": "ipython",
    "version": 3
   },
   "file_extension": ".py",
   "mimetype": "text/x-python",
   "name": "python",
   "nbconvert_exporter": "python",
   "pygments_lexer": "ipython3",
   "version": "3.7.3"
  }
 },
 "nbformat": 4,
 "nbformat_minor": 2
}
